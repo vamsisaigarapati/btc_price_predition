{
 "cells": [
  {
   "cell_type": "code",
   "execution_count": 2,
   "metadata": {},
   "outputs": [],
   "source": [
    "import sys\n",
    "import os\n",
    "\n",
    "sys.path.append(os.path.abspath(\"../\")) "
   ]
  },
  {
   "cell_type": "code",
   "execution_count": 16,
   "metadata": {},
   "outputs": [],
   "source": [
    "import pandas as pd\n",
    "import numpy as np\n",
    "import json\n",
    "import matplotlib.pyplot as plt\n",
    "from sklearn.linear_model import LinearRegression\n",
    "from sklearn.metrics import mean_squared_error, mean_absolute_percentage_error\n",
    "from sklearn.model_selection import train_test_split\n",
    "from src.metric_logging import log_experiment"
   ]
  },
  {
   "cell_type": "code",
   "execution_count": 4,
   "metadata": {},
   "outputs": [
    {
     "name": "stderr",
     "output_type": "stream",
     "text": [
      "/var/folders/x5/7fmrypvd2mj6rc45kq6kv2lh0000gn/T/ipykernel_7764/1498859750.py:14: SettingWithCopyWarning: \n",
      "A value is trying to be set on a copy of a slice from a DataFrame\n",
      "\n",
      "See the caveats in the documentation: https://pandas.pydata.org/pandas-docs/stable/user_guide/indexing.html#returning-a-view-versus-a-copy\n",
      "  data.dropna(inplace=True)\n"
     ]
    }
   ],
   "source": [
    "# Load merged dataset\n",
    "file_path = \"../datasets/final_merged_dataset.parquet\"\n",
    "merged_data = pd.read_parquet(file_path)\n",
    "\n",
    "# Ensure 'date' column is in datetime format\n",
    "merged_data['date'] = pd.to_datetime(merged_data['date'])\n",
    "merged_data.set_index('date', inplace=True)\n",
    "\n",
    "# Select relevant features: Price, Sentiment, and Technical Indicators\n",
    "feature_columns = ['Close', 'Open', 'High', 'Low', 'Volume', 'sentiment_score', 'bert_sentiment', 'volatility_7d', 'volatility_30d']\n",
    "data = merged_data[feature_columns]\n",
    "\n",
    "# Drop NaN values\n",
    "data.dropna(inplace=True)"
   ]
  },
  {
   "cell_type": "code",
   "execution_count": 5,
   "metadata": {},
   "outputs": [
    {
     "name": "stderr",
     "output_type": "stream",
     "text": [
      "/var/folders/x5/7fmrypvd2mj6rc45kq6kv2lh0000gn/T/ipykernel_7764/744195222.py:2: SettingWithCopyWarning: \n",
      "A value is trying to be set on a copy of a slice from a DataFrame.\n",
      "Try using .loc[row_indexer,col_indexer] = value instead\n",
      "\n",
      "See the caveats in the documentation: https://pandas.pydata.org/pandas-docs/stable/user_guide/indexing.html#returning-a-view-versus-a-copy\n",
      "  data['prev_close'] = data['Close'].shift(1)\n",
      "/var/folders/x5/7fmrypvd2mj6rc45kq6kv2lh0000gn/T/ipykernel_7764/744195222.py:5: SettingWithCopyWarning: \n",
      "A value is trying to be set on a copy of a slice from a DataFrame.\n",
      "Try using .loc[row_indexer,col_indexer] = value instead\n",
      "\n",
      "See the caveats in the documentation: https://pandas.pydata.org/pandas-docs/stable/user_guide/indexing.html#returning-a-view-versus-a-copy\n",
      "  data['rolling_avg_7'] = data['Close'].rolling(window=7).mean()\n",
      "/var/folders/x5/7fmrypvd2mj6rc45kq6kv2lh0000gn/T/ipykernel_7764/744195222.py:6: SettingWithCopyWarning: \n",
      "A value is trying to be set on a copy of a slice from a DataFrame.\n",
      "Try using .loc[row_indexer,col_indexer] = value instead\n",
      "\n",
      "See the caveats in the documentation: https://pandas.pydata.org/pandas-docs/stable/user_guide/indexing.html#returning-a-view-versus-a-copy\n",
      "  data['rolling_avg_14'] = data['Close'].rolling(window=14).mean()\n",
      "/var/folders/x5/7fmrypvd2mj6rc45kq6kv2lh0000gn/T/ipykernel_7764/744195222.py:7: SettingWithCopyWarning: \n",
      "A value is trying to be set on a copy of a slice from a DataFrame.\n",
      "Try using .loc[row_indexer,col_indexer] = value instead\n",
      "\n",
      "See the caveats in the documentation: https://pandas.pydata.org/pandas-docs/stable/user_guide/indexing.html#returning-a-view-versus-a-copy\n",
      "  data['rolling_avg_30'] = data['Close'].rolling(window=30).mean()\n",
      "/var/folders/x5/7fmrypvd2mj6rc45kq6kv2lh0000gn/T/ipykernel_7764/744195222.py:10: SettingWithCopyWarning: \n",
      "A value is trying to be set on a copy of a slice from a DataFrame\n",
      "\n",
      "See the caveats in the documentation: https://pandas.pydata.org/pandas-docs/stable/user_guide/indexing.html#returning-a-view-versus-a-copy\n",
      "  data.dropna(inplace=True)\n"
     ]
    }
   ],
   "source": [
    "# Create lag features (previous day's close)\n",
    "data['prev_close'] = data['Close'].shift(1)\n",
    "\n",
    "# Create rolling averages\n",
    "data['rolling_avg_7'] = data['Close'].rolling(window=7).mean()\n",
    "data['rolling_avg_14'] = data['Close'].rolling(window=14).mean()\n",
    "data['rolling_avg_30'] = data['Close'].rolling(window=30).mean()\n",
    "\n",
    "# Drop NaN values after creating lag & rolling features\n",
    "data.dropna(inplace=True)"
   ]
  },
  {
   "cell_type": "code",
   "execution_count": 6,
   "metadata": {},
   "outputs": [
    {
     "name": "stdout",
     "output_type": "stream",
     "text": [
      "Train Size: 585, Test Size: 147\n"
     ]
    }
   ],
   "source": [
    "# Define input features (X) and target variable (y)\n",
    "X = data.drop(columns=['Close'])  # Features\n",
    "y = data['Close']  # Target (Next Day's Closing Price)\n",
    "\n",
    "# Split 80% Train, 20% Test\n",
    "train_size = int(len(data) * 0.8)\n",
    "X_train, X_test = X.iloc[:train_size], X.iloc[train_size:]\n",
    "y_train, y_test = y.iloc[:train_size], y.iloc[train_size:]\n",
    "\n",
    "# Print dataset sizes\n",
    "print(f\"Train Size: {len(X_train)}, Test Size: {len(X_test)}\")"
   ]
  },
  {
   "cell_type": "code",
   "execution_count": 8,
   "metadata": {},
   "outputs": [
    {
     "name": "stdout",
     "output_type": "stream",
     "text": [
      "Feature Importance: {'Open': -0.7970500113226934, 'High': 0.9378389265903682, 'Low': 0.6256260702710894, 'Volume': 0.0009978699453272756, 'sentiment_score': -0.006632962504089177, 'bert_sentiment': 0.0031352034957625756, 'volatility_7d': -0.009925537276190992, 'volatility_30d': 0.006822292457935214, 'prev_close': 0.18937918451281235, 'rolling_avg_7': 0.08018583088890796, 'rolling_avg_14': -0.045740217524099645, 'rolling_avg_30': 0.0062873833703330755}\n"
     ]
    }
   ],
   "source": [
    "# Initialize and train Linear Regression model\n",
    "model = LinearRegression()\n",
    "model.fit(X_train, y_train)\n",
    "\n",
    "# Print coefficients (feature importance)\n",
    "feature_importance = dict(zip(X_train.columns, model.coef_))\n",
    "print(\"Feature Importance:\", feature_importance)"
   ]
  },
  {
   "cell_type": "markdown",
   "metadata": {},
   "source": [
    "## Make Predictions for Multiple Time Horizons"
   ]
  },
  {
   "cell_type": "code",
   "execution_count": 9,
   "metadata": {},
   "outputs": [
    {
     "name": "stdout",
     "output_type": "stream",
     "text": [
      "✅ Predictions completed successfully!\n"
     ]
    }
   ],
   "source": [
    "# Predict closing prices\n",
    "y_pred = model.predict(X_test)\n",
    "\n",
    "# Create DataFrame for evaluation\n",
    "predictions_df = pd.DataFrame({\n",
    "    \"Actual_Close\": y_test.values,\n",
    "    \"Predicted_Close\": y_pred\n",
    "}, index=y_test.index)\n",
    "\n",
    "# Forecast for 7-day and 30-day using rolling predictions\n",
    "predictions_df['Predicted_7d'] = predictions_df['Predicted_Close'].shift(-7)\n",
    "predictions_df['Predicted_30d'] = predictions_df['Predicted_Close'].shift(-30)\n",
    "\n",
    "print(\"✅ Predictions completed successfully!\")"
   ]
  },
  {
   "cell_type": "code",
   "execution_count": 10,
   "metadata": {},
   "outputs": [
    {
     "name": "stdout",
     "output_type": "stream",
     "text": [
      "✅ Linear Regression Model Evaluation:\n",
      "RMSE (1-day): 0.0040, MAPE (1-day): inf%\n",
      "RMSE (7-day): 0.0271, MAPE (7-day): inf%\n",
      "RMSE (30-day): 0.0554, MAPE (30-day): inf%\n"
     ]
    }
   ],
   "source": [
    "# Compute RMSE & MAPE for different forecasting horizons\n",
    "rmse_1d = np.sqrt(mean_squared_error(predictions_df['Actual_Close'], predictions_df['Predicted_Close']))\n",
    "rmse_7d = np.sqrt(mean_squared_error(predictions_df['Actual_Close'].iloc[:-7], predictions_df['Predicted_7d'].dropna()))\n",
    "rmse_30d = np.sqrt(mean_squared_error(predictions_df['Actual_Close'].iloc[:-30], predictions_df['Predicted_30d'].dropna()))\n",
    "\n",
    "# Compute MAPE\n",
    "mape_1d = np.mean(np.abs((predictions_df['Actual_Close'] - predictions_df['Predicted_Close']) / predictions_df['Actual_Close'])) * 100\n",
    "mape_7d = np.mean(np.abs((predictions_df['Actual_Close'].iloc[:-7] - predictions_df['Predicted_7d'].dropna()) / predictions_df['Actual_Close'].iloc[:-7])) * 100\n",
    "mape_30d = np.mean(np.abs((predictions_df['Actual_Close'].iloc[:-30] - predictions_df['Predicted_30d'].dropna()) / predictions_df['Actual_Close'].iloc[:-30])) * 100\n",
    "\n",
    "# Print Evaluation Results\n",
    "print(f\"✅ Linear Regression Model Evaluation:\")\n",
    "print(f\"RMSE (1-day): {rmse_1d:.4f}, MAPE (1-day): {mape_1d:.2f}%\")\n",
    "print(f\"RMSE (7-day): {rmse_7d:.4f}, MAPE (7-day): {mape_7d:.2f}%\")\n",
    "print(f\"RMSE (30-day): {rmse_30d:.4f}, MAPE (30-day): {mape_30d:.2f}%\")"
   ]
  },
  {
   "cell_type": "code",
   "execution_count": 15,
   "metadata": {},
   "outputs": [
    {
     "name": "stdout",
     "output_type": "stream",
     "text": [
      "✅ Linear_Regression metrics logged successfully to DagsHub MLflow.\n",
      "🏃 View run Linear_Regression-Baseline at: https://dagshub.com/vamsisaigarapati/bitcoin_price_pred_CSE574.mlflow/#/experiments/0/runs/2632b98b37d946c9801136d8375eed9f\n",
      "🧪 View experiment at: https://dagshub.com/vamsisaigarapati/bitcoin_price_pred_CSE574.mlflow/#/experiments/0\n",
      "✅ Linear Regression RMSE logged successfully to DagsHub MLflow!\n"
     ]
    }
   ],
   "source": [
    "# Prepare metrics for logging\n",
    "lr_metrics = {\n",
    "    \"RMSE\": rmse_1d,\n",
    "    \"RMSE_7d\": rmse_7d,\n",
    "    \"RMSE_30d\": rmse_30d\n",
    "}\n",
    "\n",
    "# Log results to MLflow\n",
    "log_experiment(\"Linear_Regression\", {}, lr_metrics)\n",
    "\n",
    "print(\"✅ Linear Regression RMSE logged successfully to DagsHub MLflow!\")"
   ]
  }
 ],
 "metadata": {
  "kernelspec": {
   "display_name": "bit_pred_env",
   "language": "python",
   "name": "python3"
  },
  "language_info": {
   "codemirror_mode": {
    "name": "ipython",
    "version": 3
   },
   "file_extension": ".py",
   "mimetype": "text/x-python",
   "name": "python",
   "nbconvert_exporter": "python",
   "pygments_lexer": "ipython3",
   "version": "3.11.11"
  }
 },
 "nbformat": 4,
 "nbformat_minor": 2
}
