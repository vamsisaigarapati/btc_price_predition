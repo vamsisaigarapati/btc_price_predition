{
 "cells": [
  {
   "cell_type": "code",
   "execution_count": 3,
   "id": "1fc44fdc-3ae7-40d8-9555-1bd1b60b34c7",
   "metadata": {},
   "outputs": [],
   "source": [
    "def getMaxThroughput(host_throughput):\n",
    "    host_throughput.sort(reverse=True)  # Sort in descending order\n",
    "    clusters = len(host_throughput) // 3\n",
    "    max_throughput = 0\n",
    "\n",
    "    for i in range(clusters):\n",
    "        median_index = i * 3 + 1  # Median is the second element in each cluster of 3\n",
    "        max_throughput += host_throughput[median_index]\n",
    "\n",
    "    return max_throughput\n",
    "\n",
    "\n"
   ]
  },
  {
   "cell_type": "code",
   "execution_count": 5,
   "id": "c0233ffa-ab84-4741-8fdf-e4ee40633d5c",
   "metadata": {},
   "outputs": [
    {
     "name": "stdout",
     "output_type": "stream",
     "text": [
      "9\n",
      "10\n",
      "2\n",
      "0\n",
      "15\n",
      "10\n"
     ]
    }
   ],
   "source": [
    "# ------------------------\n",
    "# 🧪 Test Cases\n",
    "# ------------------------\n",
    "\n",
    "# Sample Case 0\n",
    "print(getMaxThroughput([4, 6, 3, 5, 4, 5]))  # Expected: 9\n",
    "\n",
    "# Sample Case 1\n",
    "print(getMaxThroughput([8, 6, 3, 4, 4, 5, 6]))  # Expected: 11\n",
    "\n",
    "# Edge Case: Exactly 3 elements\n",
    "print(getMaxThroughput([1, 2, 3]))  # Expected: 2\n",
    "\n",
    "# Edge Case: No complete cluster\n",
    "print(getMaxThroughput([5, 2]))  # Expected: 0\n",
    "\n",
    "# Custom Case: Larger array\n",
    "print(getMaxThroughput([9, 8, 7, 6, 5, 4, 3, 2, 1]))  # Expected: 6 + 3 + 1 = 10\n",
    "\n",
    "# Edge Case: All same\n",
    "print(getMaxThroughput([5, 5, 5, 5, 5, 5]))  # Expected: 5 + 5 = 10\n"
   ]
  },
  {
   "cell_type": "code",
   "execution_count": 7,
   "id": "7c8bc0b5-53a7-458c-bdd4-8f70b04fd558",
   "metadata": {},
   "outputs": [
    {
     "name": "stdout",
     "output_type": "stream",
     "text": [
      "11\n"
     ]
    }
   ],
   "source": [
    "def getMaxThroughput(host_throughput):\n",
    "    host_throughput.sort()\n",
    "    n = len(host_throughput)\n",
    "    clusters = n // 3\n",
    "    i = 0            \n",
    "    j = n - 1       \n",
    "    max_throughput = 0\n",
    "    \n",
    "    for _ in range(clusters):\n",
    "        max_throughput += host_throughput[j - 1]\n",
    "        i += 1\n",
    "        j -= 2   \n",
    "    return max_throughput\n",
    "\n",
    "\n",
    "# ------------------------\n",
    "# Test with your example\n",
    "# ------------------------\n",
    "test_arr = [8, 6, 3, 4, 4, 5, 6]\n",
    "print(getMaxThroughput(test_arr))  # Should print 11\n"
   ]
  },
  {
   "cell_type": "code",
   "execution_count": 9,
   "id": "5078c9a9-9ab4-4175-83a5-b29e963c57da",
   "metadata": {},
   "outputs": [
    {
     "name": "stdout",
     "output_type": "stream",
     "text": [
      "9\n",
      "2\n",
      "0\n",
      "18\n"
     ]
    }
   ],
   "source": [
    "# Sample from earlier\n",
    "print(getMaxThroughput([4, 6, 3, 5, 4, 5]))  # Expected: 9\n",
    "\n",
    "# Edge Case: Exactly 3 elements => median is the middle\n",
    "print(getMaxThroughput([1, 2, 3]))  # Expected: 2\n",
    "\n",
    "# Fewer than 3 elements => no cluster\n",
    "print(getMaxThroughput([5, 2]))  # Expected: 0\n",
    "\n",
    "# Bigger example\n",
    "print(getMaxThroughput([9, 8, 7, 6, 5, 4, 3, 2, 1]))  \n",
    "# Explanation: ascending => [1,2,3,4,5,6,7,8,9]\n",
    "# groups => ([1,8,9], median=8), ([2,6,7], median=6), ([3,4,5], median=4)\n",
    "# total = 8+6+4 = 18\n"
   ]
  }
 ],
 "metadata": {
  "kernelspec": {
   "display_name": "Python 3 (ipykernel)",
   "language": "python",
   "name": "python3"
  },
  "language_info": {
   "codemirror_mode": {
    "name": "ipython",
    "version": 3
   },
   "file_extension": ".py",
   "mimetype": "text/x-python",
   "name": "python",
   "nbconvert_exporter": "python",
   "pygments_lexer": "ipython3",
   "version": "3.12.4"
  }
 },
 "nbformat": 4,
 "nbformat_minor": 5
}
