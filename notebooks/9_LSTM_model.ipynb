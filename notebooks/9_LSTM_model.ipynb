{
 "cells": [
  {
   "cell_type": "code",
   "execution_count": 2,
   "id": "15bb2edf",
   "metadata": {},
   "outputs": [],
   "source": [
    "from IPython.core.interactiveshell import InteractiveShell\n",
    "InteractiveShell.ast_node_interactivity = \"all\" "
   ]
  },
  {
   "cell_type": "code",
   "execution_count": 3,
   "id": "97444bc4",
   "metadata": {},
   "outputs": [
    {
     "name": "stdout",
     "output_type": "stream",
     "text": [
      "X_seq shape: (18241, 24, 15)\n",
      "y_seq shape: (18241,)\n"
     ]
    }
   ],
   "source": [
    "import pandas as pd\n",
    "import numpy as np\n",
    "\n",
    "# Read the dataset (again if needed)\n",
    "merged_data = pd.read_parquet('../datasets/final_merged_dataset_hourly.parquet')\n",
    "\n",
    "# Drop NaN rows (important because volatility, moving avg have NaNs at the start)\n",
    "merged_data = merged_data.dropna()\n",
    "\n",
    "# Define the features you want to use\n",
    "feature_cols = [\n",
    "    'Open', 'High', 'Low', 'Close', 'Volume',\n",
    "    'sentiment_score', 'bert_sentiment',\n",
    "    'prev_close', 'prev_vader_sentiment', 'prev_bert_sentiment',\n",
    "    'volatility_7d', 'volatility_14d', 'volatility_30d',\n",
    "    'closing_7d_avg', 'closing_30d_avg'\n",
    "]\n",
    "\n",
    "# Create input (X) and output (y)\n",
    "data_X = merged_data[feature_cols].values\n",
    "data_y = merged_data['Close'].values  # Target is Close price\n",
    "\n",
    "# Define sequence length\n",
    "N_STEPS = 24  # Use past 24 hours to predict next hour\n",
    "\n",
    "# Create sequences\n",
    "X_seq = []\n",
    "y_seq = []\n",
    "\n",
    "for i in range(N_STEPS, len(data_X)):\n",
    "    X_seq.append(data_X[i-N_STEPS:i])\n",
    "    y_seq.append(data_y[i])\n",
    "\n",
    "X_seq = np.array(X_seq)\n",
    "y_seq = np.array(y_seq)\n",
    "\n",
    "print(f\"X_seq shape: {X_seq.shape}\")  # (samples, 24, features)\n",
    "print(f\"y_seq shape: {y_seq.shape}\")  # (samples,)\n"
   ]
  },
  {
   "cell_type": "code",
   "execution_count": 4,
   "id": "5d81c89f",
   "metadata": {},
   "outputs": [
    {
     "data": {
      "text/plain": [
       "array([[[0.25073012, 0.25110647, 0.25062839, ..., 0.05731247,\n",
       "         0.32097504, 0.35758326],\n",
       "        [0.25143256, 0.25169481, 0.25135292, ..., 0.05731247,\n",
       "         0.32097504, 0.35758326],\n",
       "        [0.25615368, 0.25601089, 0.25526346, ..., 0.05731247,\n",
       "         0.32097504, 0.35758326],\n",
       "        ...,\n",
       "        [0.2573224 , 0.25800473, 0.2572696 , ..., 0.05731247,\n",
       "         0.32097504, 0.35758326],\n",
       "        [0.25937201, 0.25922932, 0.25901467, ..., 0.05731247,\n",
       "         0.32097504, 0.35758326],\n",
       "        [0.25544369, 0.25530088, 0.25361524, ..., 0.05731247,\n",
       "         0.32097504, 0.35758326]],\n",
       "\n",
       "       [[0.25143256, 0.25169481, 0.25135292, ..., 0.05731247,\n",
       "         0.32097504, 0.35758326],\n",
       "        [0.25615368, 0.25601089, 0.25526346, ..., 0.05731247,\n",
       "         0.32097504, 0.35758326],\n",
       "        [0.25214727, 0.25292752, 0.2523508 , ..., 0.05731247,\n",
       "         0.32097504, 0.35758326],\n",
       "        ...,\n",
       "        [0.25937201, 0.25922932, 0.25901467, ..., 0.05731247,\n",
       "         0.32097504, 0.35758326],\n",
       "        [0.25544369, 0.25530088, 0.25361524, ..., 0.05731247,\n",
       "         0.32097504, 0.35758326],\n",
       "        [0.25486876, 0.25502906, 0.25366866, ..., 0.05731247,\n",
       "         0.32097504, 0.35758326]],\n",
       "\n",
       "       [[0.25615368, 0.25601089, 0.25526346, ..., 0.05731247,\n",
       "         0.32097504, 0.35758326],\n",
       "        [0.25214727, 0.25292752, 0.2523508 , ..., 0.05731247,\n",
       "         0.32097504, 0.35758326],\n",
       "        [0.25493233, 0.2552839 , 0.25417969, ..., 0.05731247,\n",
       "         0.32097504, 0.35758326],\n",
       "        ...,\n",
       "        [0.25544369, 0.25530088, 0.25361524, ..., 0.05731247,\n",
       "         0.32097504, 0.35758326],\n",
       "        [0.25486876, 0.25502906, 0.25366866, ..., 0.05731247,\n",
       "         0.32097504, 0.35758326],\n",
       "        [0.25443096, 0.25428812, 0.25159758, ..., 0.05731247,\n",
       "         0.32097504, 0.35758326]],\n",
       "\n",
       "       ...,\n",
       "\n",
       "       [[0.14241239, 0.14239804, 0.14252735, ..., 0.0497191 ,\n",
       "         0.1405492 , 0.08199776],\n",
       "        [0.1411486 , 0.14100217, 0.14090386, ..., 0.0497095 ,\n",
       "         0.14055336, 0.08216851],\n",
       "        [0.14184651, 0.1417001 , 0.14179111, ..., 0.04970066,\n",
       "         0.14057336, 0.08234057],\n",
       "        ...,\n",
       "        [0.14146926, 0.14175669, 0.14158346, ..., 0.04924107,\n",
       "         0.14026819, 0.08548671],\n",
       "        [0.14163903, 0.1417001 , 0.14162121, ..., 0.04921938,\n",
       "         0.14030055, 0.08565927],\n",
       "        [0.14162016, 0.14153033, 0.14173448, ..., 0.04919758,\n",
       "         0.14032325, 0.08583181]],\n",
       "\n",
       "       [[0.1411486 , 0.14100217, 0.14090386, ..., 0.0497095 ,\n",
       "         0.14055336, 0.08216851],\n",
       "        [0.14184651, 0.1417001 , 0.14179111, ..., 0.04970066,\n",
       "         0.14057336, 0.08234057],\n",
       "        [0.13496168, 0.13481505, 0.13478745, ..., 0.04968008,\n",
       "         0.14056965, 0.08250309],\n",
       "        ...,\n",
       "        [0.14163903, 0.1417001 , 0.14162121, ..., 0.04921938,\n",
       "         0.14030055, 0.08565927],\n",
       "        [0.14162016, 0.14153033, 0.14173448, ..., 0.04919758,\n",
       "         0.14032325, 0.08583181],\n",
       "        [0.14128064, 0.14128511, 0.14135692, ..., 0.0491751 ,\n",
       "         0.14035201, 0.08600377]],\n",
       "\n",
       "       [[0.14184651, 0.1417001 , 0.14179111, ..., 0.04970066,\n",
       "         0.14057336, 0.08234057],\n",
       "        [0.13496168, 0.13481505, 0.13478745, ..., 0.04968008,\n",
       "         0.14056965, 0.08250309],\n",
       "        [0.13350926, 0.1334569 , 0.13361703, ..., 0.04965728,\n",
       "         0.14053325, 0.08266412],\n",
       "        ...,\n",
       "        [0.14162016, 0.14153033, 0.14173448, ..., 0.04919758,\n",
       "         0.14032325, 0.08583181],\n",
       "        [0.14128064, 0.14128511, 0.14135692, ..., 0.0491751 ,\n",
       "         0.14035201, 0.08600377],\n",
       "        [0.14216718, 0.14202078, 0.14196101, ..., 0.04915318,\n",
       "         0.14037774, 0.08617594]]])"
      ]
     },
     "execution_count": 4,
     "metadata": {},
     "output_type": "execute_result"
    }
   ],
   "source": [
    "X_seq"
   ]
  },
  {
   "cell_type": "code",
   "execution_count": 5,
   "id": "9ae9262b",
   "metadata": {},
   "outputs": [
    {
     "name": "stdout",
     "output_type": "stream",
     "text": [
      "Train X shape: (14592, 24, 15)\n",
      "Test X shape: (3649, 24, 15)\n",
      "Train y shape: (14592,)\n",
      "Test y shape: (3649,)\n"
     ]
    }
   ],
   "source": [
    "# How much percentage for training\n",
    "train_size = int(0.8 * len(X_seq))\n",
    "\n",
    "# Split chronologically\n",
    "X_train, X_test = X_seq[:train_size], X_seq[train_size:]\n",
    "y_train, y_test = y_seq[:train_size], y_seq[train_size:]\n",
    "\n",
    "print(f\"Train X shape: {X_train.shape}\")\n",
    "print(f\"Test X shape: {X_test.shape}\")\n",
    "print(f\"Train y shape: {y_train.shape}\")\n",
    "print(f\"Test y shape: {y_test.shape}\")\n"
   ]
  },
  {
   "cell_type": "code",
   "execution_count": 6,
   "id": "4c898cbc",
   "metadata": {},
   "outputs": [
    {
     "name": "stderr",
     "output_type": "stream",
     "text": [
      "/opt/anaconda3/envs/bit_pred_env/lib/python3.11/site-packages/keras/src/layers/rnn/rnn.py:200: UserWarning: Do not pass an `input_shape`/`input_dim` argument to a layer. When using Sequential models, prefer using an `Input(shape)` object as the first layer in the model instead.\n",
      "  super().__init__(**kwargs)\n"
     ]
    },
    {
     "data": {
      "text/html": [
       "<pre style=\"white-space:pre;overflow-x:auto;line-height:normal;font-family:Menlo,'DejaVu Sans Mono',consolas,'Courier New',monospace\"><span style=\"font-weight: bold\">Model: \"sequential\"</span>\n",
       "</pre>\n"
      ],
      "text/plain": [
       "\u001b[1mModel: \"sequential\"\u001b[0m\n"
      ]
     },
     "metadata": {},
     "output_type": "display_data"
    },
    {
     "data": {
      "text/html": [
       "<pre style=\"white-space:pre;overflow-x:auto;line-height:normal;font-family:Menlo,'DejaVu Sans Mono',consolas,'Courier New',monospace\">┏━━━━━━━━━━━━━━━━━━━━━━━━━━━━━━━━━┳━━━━━━━━━━━━━━━━━━━━━━━━┳━━━━━━━━━━━━━━━┓\n",
       "┃<span style=\"font-weight: bold\"> Layer (type)                    </span>┃<span style=\"font-weight: bold\"> Output Shape           </span>┃<span style=\"font-weight: bold\">       Param # </span>┃\n",
       "┡━━━━━━━━━━━━━━━━━━━━━━━━━━━━━━━━━╇━━━━━━━━━━━━━━━━━━━━━━━━╇━━━━━━━━━━━━━━━┩\n",
       "│ lstm (<span style=\"color: #0087ff; text-decoration-color: #0087ff\">LSTM</span>)                     │ (<span style=\"color: #00d7ff; text-decoration-color: #00d7ff\">None</span>, <span style=\"color: #00af00; text-decoration-color: #00af00\">64</span>)             │        <span style=\"color: #00af00; text-decoration-color: #00af00\">20,480</span> │\n",
       "├─────────────────────────────────┼────────────────────────┼───────────────┤\n",
       "│ dropout (<span style=\"color: #0087ff; text-decoration-color: #0087ff\">Dropout</span>)               │ (<span style=\"color: #00d7ff; text-decoration-color: #00d7ff\">None</span>, <span style=\"color: #00af00; text-decoration-color: #00af00\">64</span>)             │             <span style=\"color: #00af00; text-decoration-color: #00af00\">0</span> │\n",
       "├─────────────────────────────────┼────────────────────────┼───────────────┤\n",
       "│ dense (<span style=\"color: #0087ff; text-decoration-color: #0087ff\">Dense</span>)                   │ (<span style=\"color: #00d7ff; text-decoration-color: #00d7ff\">None</span>, <span style=\"color: #00af00; text-decoration-color: #00af00\">1</span>)              │            <span style=\"color: #00af00; text-decoration-color: #00af00\">65</span> │\n",
       "└─────────────────────────────────┴────────────────────────┴───────────────┘\n",
       "</pre>\n"
      ],
      "text/plain": [
       "┏━━━━━━━━━━━━━━━━━━━━━━━━━━━━━━━━━┳━━━━━━━━━━━━━━━━━━━━━━━━┳━━━━━━━━━━━━━━━┓\n",
       "┃\u001b[1m \u001b[0m\u001b[1mLayer (type)                   \u001b[0m\u001b[1m \u001b[0m┃\u001b[1m \u001b[0m\u001b[1mOutput Shape          \u001b[0m\u001b[1m \u001b[0m┃\u001b[1m \u001b[0m\u001b[1m      Param #\u001b[0m\u001b[1m \u001b[0m┃\n",
       "┡━━━━━━━━━━━━━━━━━━━━━━━━━━━━━━━━━╇━━━━━━━━━━━━━━━━━━━━━━━━╇━━━━━━━━━━━━━━━┩\n",
       "│ lstm (\u001b[38;5;33mLSTM\u001b[0m)                     │ (\u001b[38;5;45mNone\u001b[0m, \u001b[38;5;34m64\u001b[0m)             │        \u001b[38;5;34m20,480\u001b[0m │\n",
       "├─────────────────────────────────┼────────────────────────┼───────────────┤\n",
       "│ dropout (\u001b[38;5;33mDropout\u001b[0m)               │ (\u001b[38;5;45mNone\u001b[0m, \u001b[38;5;34m64\u001b[0m)             │             \u001b[38;5;34m0\u001b[0m │\n",
       "├─────────────────────────────────┼────────────────────────┼───────────────┤\n",
       "│ dense (\u001b[38;5;33mDense\u001b[0m)                   │ (\u001b[38;5;45mNone\u001b[0m, \u001b[38;5;34m1\u001b[0m)              │            \u001b[38;5;34m65\u001b[0m │\n",
       "└─────────────────────────────────┴────────────────────────┴───────────────┘\n"
      ]
     },
     "metadata": {},
     "output_type": "display_data"
    },
    {
     "data": {
      "text/html": [
       "<pre style=\"white-space:pre;overflow-x:auto;line-height:normal;font-family:Menlo,'DejaVu Sans Mono',consolas,'Courier New',monospace\"><span style=\"font-weight: bold\"> Total params: </span><span style=\"color: #00af00; text-decoration-color: #00af00\">20,545</span> (80.25 KB)\n",
       "</pre>\n"
      ],
      "text/plain": [
       "\u001b[1m Total params: \u001b[0m\u001b[38;5;34m20,545\u001b[0m (80.25 KB)\n"
      ]
     },
     "metadata": {},
     "output_type": "display_data"
    },
    {
     "data": {
      "text/html": [
       "<pre style=\"white-space:pre;overflow-x:auto;line-height:normal;font-family:Menlo,'DejaVu Sans Mono',consolas,'Courier New',monospace\"><span style=\"font-weight: bold\"> Trainable params: </span><span style=\"color: #00af00; text-decoration-color: #00af00\">20,545</span> (80.25 KB)\n",
       "</pre>\n"
      ],
      "text/plain": [
       "\u001b[1m Trainable params: \u001b[0m\u001b[38;5;34m20,545\u001b[0m (80.25 KB)\n"
      ]
     },
     "metadata": {},
     "output_type": "display_data"
    },
    {
     "data": {
      "text/html": [
       "<pre style=\"white-space:pre;overflow-x:auto;line-height:normal;font-family:Menlo,'DejaVu Sans Mono',consolas,'Courier New',monospace\"><span style=\"font-weight: bold\"> Non-trainable params: </span><span style=\"color: #00af00; text-decoration-color: #00af00\">0</span> (0.00 B)\n",
       "</pre>\n"
      ],
      "text/plain": [
       "\u001b[1m Non-trainable params: \u001b[0m\u001b[38;5;34m0\u001b[0m (0.00 B)\n"
      ]
     },
     "metadata": {},
     "output_type": "display_data"
    }
   ],
   "source": [
    "import tensorflow as tf\n",
    "from tensorflow.keras.models import Sequential\n",
    "from tensorflow.keras.layers import LSTM, Dense, Dropout\n",
    "\n",
    "# Define LSTM model\n",
    "lstm_model = Sequential()\n",
    "\n",
    "# LSTM layer\n",
    "lstm_model.add(LSTM(units=64, return_sequences=False, input_shape=(X_train.shape[1], X_train.shape[2])))\n",
    "\n",
    "# Dropout layer (to prevent overfitting)\n",
    "lstm_model.add(Dropout(0.2))\n",
    "\n",
    "# Final Dense layer\n",
    "lstm_model.add(Dense(1))  # 1 output: next-hour Close price\n",
    "\n",
    "# Compile the model\n",
    "lstm_model.compile(optimizer='adam', loss='mse', metrics=['mae'])\n",
    "\n",
    "# Summary\n",
    "lstm_model.summary()\n"
   ]
  },
  {
   "cell_type": "code",
   "execution_count": 7,
   "id": "b9f746dd",
   "metadata": {},
   "outputs": [
    {
     "name": "stdout",
     "output_type": "stream",
     "text": [
      "Epoch 1/50\n",
      "\u001b[1m365/365\u001b[0m \u001b[32m━━━━━━━━━━━━━━━━━━━━\u001b[0m\u001b[37m\u001b[0m \u001b[1m2s\u001b[0m 4ms/step - loss: 0.0198 - mae: 0.0896 - val_loss: 4.4844e-04 - val_mae: 0.0199\n",
      "Epoch 2/50\n",
      "\u001b[1m365/365\u001b[0m \u001b[32m━━━━━━━━━━━━━━━━━━━━\u001b[0m\u001b[37m\u001b[0m \u001b[1m1s\u001b[0m 3ms/step - loss: 0.0020 - mae: 0.0350 - val_loss: 1.4563e-04 - val_mae: 0.0101\n",
      "Epoch 3/50\n",
      "\u001b[1m365/365\u001b[0m \u001b[32m━━━━━━━━━━━━━━━━━━━━\u001b[0m\u001b[37m\u001b[0m \u001b[1m1s\u001b[0m 3ms/step - loss: 0.0017 - mae: 0.0310 - val_loss: 9.3807e-05 - val_mae: 0.0081\n",
      "Epoch 4/50\n",
      "\u001b[1m365/365\u001b[0m \u001b[32m━━━━━━━━━━━━━━━━━━━━\u001b[0m\u001b[37m\u001b[0m \u001b[1m1s\u001b[0m 3ms/step - loss: 0.0015 - mae: 0.0296 - val_loss: 1.6890e-04 - val_mae: 0.0109\n",
      "Epoch 5/50\n",
      "\u001b[1m365/365\u001b[0m \u001b[32m━━━━━━━━━━━━━━━━━━━━\u001b[0m\u001b[37m\u001b[0m \u001b[1m1s\u001b[0m 3ms/step - loss: 0.0013 - mae: 0.0276 - val_loss: 2.7453e-04 - val_mae: 0.0151\n",
      "Epoch 6/50\n",
      "\u001b[1m365/365\u001b[0m \u001b[32m━━━━━━━━━━━━━━━━━━━━\u001b[0m\u001b[37m\u001b[0m \u001b[1m1s\u001b[0m 3ms/step - loss: 0.0012 - mae: 0.0260 - val_loss: 1.4387e-04 - val_mae: 0.0104\n",
      "Epoch 7/50\n",
      "\u001b[1m365/365\u001b[0m \u001b[32m━━━━━━━━━━━━━━━━━━━━\u001b[0m\u001b[37m\u001b[0m \u001b[1m1s\u001b[0m 4ms/step - loss: 9.5077e-04 - mae: 0.0234 - val_loss: 2.7414e-04 - val_mae: 0.0146\n",
      "Epoch 8/50\n",
      "\u001b[1m365/365\u001b[0m \u001b[32m━━━━━━━━━━━━━━━━━━━━\u001b[0m\u001b[37m\u001b[0m \u001b[1m1s\u001b[0m 3ms/step - loss: 9.5013e-04 - mae: 0.0232 - val_loss: 1.9769e-04 - val_mae: 0.0126\n"
     ]
    }
   ],
   "source": [
    "from tensorflow.keras.callbacks import EarlyStopping\n",
    "\n",
    "# Define EarlyStopping\n",
    "early_stopping = EarlyStopping(\n",
    "    monitor='val_loss', \n",
    "    patience=5, \n",
    "    restore_best_weights=True\n",
    ")\n",
    "\n",
    "# Train the model\n",
    "history = lstm_model.fit(\n",
    "    X_train, \n",
    "    y_train,\n",
    "    epochs=50,                 # maximum 50 epochs\n",
    "    batch_size=32,\n",
    "    validation_split=0.2,      # 20% of training set used for validation\n",
    "    callbacks=[early_stopping],\n",
    "    verbose=1\n",
    ")\n"
   ]
  },
  {
   "cell_type": "code",
   "execution_count": 8,
   "id": "df8ceb23",
   "metadata": {},
   "outputs": [
    {
     "name": "stdout",
     "output_type": "stream",
     "text": [
      "\u001b[1m115/115\u001b[0m \u001b[32m━━━━━━━━━━━━━━━━━━━━\u001b[0m\u001b[37m\u001b[0m \u001b[1m0s\u001b[0m 2ms/step\n",
      "✅ RMSE: 0.013126\n",
      "✅ Safe MAPE: 37.64%\n"
     ]
    }
   ],
   "source": [
    "from sklearn.metrics import mean_squared_error, mean_absolute_percentage_error\n",
    "import numpy as np\n",
    "\n",
    "# Step 5.1: Predict on the test set\n",
    "y_pred = lstm_model.predict(X_test)\n",
    "\n",
    "# Step 5.2: Reshape predictions\n",
    "y_pred = y_pred.flatten()\n",
    "\n",
    "# Step 5.3: Calculate RMSE\n",
    "rmse = np.sqrt(mean_squared_error(y_test, y_pred))\n",
    "\n",
    "# Step 5.4: Calculate Safe MAPE\n",
    "threshold = 0.01  # ignore very small true values\n",
    "mask = np.abs(y_test) > threshold\n",
    "mape = mean_absolute_percentage_error(y_test[mask], y_pred[mask]) * 100\n",
    "\n",
    "# Step 5.5: Display Results\n",
    "print(f\"✅ RMSE: {rmse:.6f}\")\n",
    "print(f\"✅ Safe MAPE: {mape:.2f}%\")\n"
   ]
  },
  {
   "cell_type": "code",
   "execution_count": 9,
   "id": "7d4418a8",
   "metadata": {},
   "outputs": [],
   "source": [
    "import sys\n",
    "sys.path.append(\"../src\")\n",
    "\n",
    "from metric_logging import log_experiment"
   ]
  },
  {
   "cell_type": "code",
   "execution_count": 10,
   "id": "f340e818",
   "metadata": {},
   "outputs": [],
   "source": [
    "params = {\n",
    "    \"model_type\": \"LSTM\",\n",
    "    \"sequence_length\": 24,\n",
    "    \"hidden_units\": 64,\n",
    "    \"dropout_rate\": 0.2,\n",
    "    \"optimizer\": \"adam\",\n",
    "    \"loss\": \"mean_squared_error\",\n",
    "    \"epochs\": 20,\n",
    "    \"batch_size\": 32\n",
    "}\n",
    "\n",
    "# Define metrics\n",
    "metrics = {\n",
    "    \"RMSE\": rmse,\n",
    "    \"MAPE\": mape\n",
    "}\n",
    "\n",
    "# Log model, parameters, and metrics\n",
    "# log_experiment(\n",
    "#     model_name=\"LSTM\",\n",
    "#     model_object=lstm_model,\n",
    "#     params=params,\n",
    "#     metrics=metrics\n",
    "# )"
   ]
  },
  {
   "cell_type": "code",
   "execution_count": 11,
   "id": "49c8ca04",
   "metadata": {},
   "outputs": [
    {
     "data": {
      "text/plain": [
       "<Sequential name=sequential, built=True>"
      ]
     },
     "execution_count": 11,
     "metadata": {},
     "output_type": "execute_result"
    }
   ],
   "source": [
    "lstm_model"
   ]
  },
  {
   "cell_type": "code",
   "execution_count": 14,
   "id": "4ed84ba2",
   "metadata": {},
   "outputs": [
    {
     "name": "stdout",
     "output_type": "stream",
     "text": [
      "✅ Noisy test‑set created: (3649, 24, 15)\n"
     ]
    }
   ],
   "source": [
    "import numpy as np\n",
    "\n",
    "# -------------------------------------------------\n",
    "# 1)  Copy X_test (shape: [samples, 24, features])\n",
    "# -------------------------------------------------\n",
    "X_test_noisy = X_test.copy()\n",
    "\n",
    "# -------------------------------------------------\n",
    "# 2)  Decide noise level  (e.g. 2 % of each feature’s range)\n",
    "# -------------------------------------------------\n",
    "noise_pct = 0.02         # 2 %\n",
    "feature_range = X_test_noisy.max(axis=(0, 1)) - X_test_noisy.min(axis=(0, 1))\n",
    "noise_std   = noise_pct * feature_range            # per‑feature σ\n",
    "\n",
    "# -------------------------------------------------\n",
    "# 3)  Add Gaussian noise feature‑wise\n",
    "# -------------------------------------------------\n",
    "noise = np.random.normal(loc=0.0,\n",
    "                         scale=noise_std,\n",
    "                         size=X_test_noisy.shape)\n",
    "\n",
    "X_test_noisy += noise\n",
    "\n",
    "# (optional)  clip to original min / max to avoid crazy outliers\n",
    "X_test_noisy = np.clip(\n",
    "    X_test_noisy,\n",
    "    X_test.min(axis=(0, 1)),\n",
    "    X_test.max(axis=(0, 1))\n",
    ")\n",
    "\n",
    "print(\"✅ Noisy test‑set created:\", X_test_noisy.shape)"
   ]
  },
  {
   "cell_type": "code",
   "execution_count": 15,
   "id": "b89388a2",
   "metadata": {},
   "outputs": [
    {
     "name": "stdout",
     "output_type": "stream",
     "text": [
      "🔎  LSTM  —  OOD Noise Robustness\n",
      "--------------------------------\n",
      "Clean  RMSE : 0.013126\n",
      "Noisy  RMSE : 0.013265  (+1.1 %)\n",
      "\n",
      "Clean  Safe MAPE : 37.64%\n",
      "Noisy  Safe MAPE : 37.99%  (+0.9 %)\n"
     ]
    }
   ],
   "source": [
    "from sklearn.metrics import mean_squared_error, mean_absolute_percentage_error\n",
    "import numpy as np\n",
    "\n",
    "# ------------------------------------------------------------------\n",
    "# A)  Predict on the original (clean) test‑set\n",
    "# ------------------------------------------------------------------\n",
    "y_pred_clean = lstm_model.predict(X_test, verbose=0).flatten()\n",
    "\n",
    "rmse_clean = np.sqrt(mean_squared_error(y_test, y_pred_clean))\n",
    "\n",
    "threshold   = 0.01                       # ignore tiny targets\n",
    "mask        = np.abs(y_test) > threshold\n",
    "mape_clean  = mean_absolute_percentage_error(\n",
    "                 y_test[mask], y_pred_clean[mask]) * 100\n",
    "\n",
    "# ------------------------------------------------------------------\n",
    "# B)  Predict on the NOISY test‑set we just built\n",
    "# ------------------------------------------------------------------\n",
    "y_pred_noisy = lstm_model.predict(X_test_noisy, verbose=0).flatten()\n",
    "\n",
    "rmse_noisy = np.sqrt(mean_squared_error(y_test, y_pred_noisy))\n",
    "\n",
    "mape_noisy = mean_absolute_percentage_error(\n",
    "                 y_test[mask], y_pred_noisy[mask]) * 100      # same mask\n",
    "\n",
    "# ------------------------------------------------------------------\n",
    "# C)  Report robustness (error increase)\n",
    "# ------------------------------------------------------------------\n",
    "def pct_increase(a, b):\n",
    "    return (b - a) / a * 100\n",
    "\n",
    "print(\"🔎  LSTM  —  OOD Noise Robustness\\n\"\n",
    "      \"--------------------------------\")\n",
    "print(f\"Clean  RMSE : {rmse_clean:.6f}\")\n",
    "print(f\"Noisy  RMSE : {rmse_noisy:.6f}  \"\n",
    "      f\"({pct_increase(rmse_clean, rmse_noisy):+.1f} %)\\n\")\n",
    "\n",
    "print(f\"Clean  Safe MAPE : {mape_clean:.2f}%\")\n",
    "print(f\"Noisy  Safe MAPE : {mape_noisy:.2f}%  \"\n",
    "      f\"({pct_increase(mape_clean, mape_noisy):+.1f} %)\")"
   ]
  },
  {
   "cell_type": "code",
   "execution_count": 16,
   "id": "e37ccb4f",
   "metadata": {},
   "outputs": [
    {
     "data": {
      "text/plain": [
       "<Figure size 700x500 with 0 Axes>"
      ]
     },
     "execution_count": 16,
     "metadata": {},
     "output_type": "execute_result"
    },
    {
     "data": {
      "text/plain": [
       "<Axes: xlabel='TrueClose', ylabel='AbsError'>"
      ]
     },
     "execution_count": 16,
     "metadata": {},
     "output_type": "execute_result"
    },
    {
     "data": {
      "text/plain": [
       "[<matplotlib.lines.Line2D at 0x1181f6890>]"
      ]
     },
     "execution_count": 16,
     "metadata": {},
     "output_type": "execute_result"
    },
    {
     "data": {
      "text/plain": [
       "Text(0.5, 1.0, 'Heteroscedasticity Check\\xa0–\\xa0LSTM\\nAbsolute Error vs. True Close Price')"
      ]
     },
     "execution_count": 16,
     "metadata": {},
     "output_type": "execute_result"
    },
    {
     "data": {
      "text/plain": [
       "Text(0.5, 0, 'True Close Price')"
      ]
     },
     "execution_count": 16,
     "metadata": {},
     "output_type": "execute_result"
    },
    {
     "data": {
      "text/plain": [
       "Text(0, 0.5, 'Absolute Prediction Error')"
      ]
     },
     "execution_count": 16,
     "metadata": {},
     "output_type": "execute_result"
    },
    {
     "data": {
      "text/plain": [
       "<matplotlib.legend.Legend at 0x31d734cd0>"
      ]
     },
     "execution_count": 16,
     "metadata": {},
     "output_type": "execute_result"
    },
    {
     "data": {
      "image/png": "[encoded data removed]",
      "text/plain": [
       "<Figure size 700x500 with 1 Axes>"
      ]
     },
     "metadata": {},
     "output_type": "display_data"
    }
   ],
   "source": [
    "import matplotlib.pyplot as plt\n",
    "import seaborn as sns\n",
    "import pandas as pd\n",
    "from statsmodels.nonparametric.smoothers_lowess import lowess\n",
    "\n",
    "# ------------------------------------------------------------------\n",
    "# 1)  Make sure you have clean predictions (y_pred_clean)\n",
    "#     If not, re‑compute quickly:\n",
    "# y_pred_clean = lstm_model.predict(X_test, verbose=0).flatten()\n",
    "# ------------------------------------------------------------------\n",
    "\n",
    "errors = y_test - y_pred_clean\n",
    "abs_errors = np.abs(errors)\n",
    "\n",
    "# DataFrame for convenience\n",
    "df_plot = pd.DataFrame({\n",
    "    \"TrueClose\": y_test,\n",
    "    \"AbsError\" : abs_errors\n",
    "})\n",
    "\n",
    "# ------------------------------------------------------------------\n",
    "# 2)  LOWESS curve (optional smooth trend)\n",
    "# ------------------------------------------------------------------\n",
    "lowess_curve = lowess(df_plot[\"AbsError\"], df_plot[\"TrueClose\"],\n",
    "                      frac=0.15, return_sorted=True)\n",
    "\n",
    "# ------------------------------------------------------------------\n",
    "# 3)  Plot\n",
    "# ------------------------------------------------------------------\n",
    "plt.figure(figsize=(7,5))\n",
    "sns.scatterplot(data=df_plot, x=\"TrueClose\", y=\"AbsError\",\n",
    "                alpha=0.3, s=18, linewidth=0)\n",
    "\n",
    "# LOWESS\n",
    "plt.plot(lowess_curve[:,0], lowess_curve[:,1],\n",
    "         color=\"red\", linewidth=2, label=\"LOWESS trend\")\n",
    "\n",
    "plt.title(\"Heteroscedasticity Check – LSTM\\nAbsolute Error vs. True Close Price\")\n",
    "plt.xlabel(\"True Close Price\")\n",
    "plt.ylabel(\"Absolute Prediction Error\")\n",
    "plt.legend()\n",
    "plt.tight_layout()\n",
    "plt.show()"
   ]
  },
  {
   "cell_type": "code",
   "execution_count": 18,
   "id": "3fbf56ff",
   "metadata": {},
   "outputs": [
    {
     "name": "stderr",
     "output_type": "stream",
     "text": [
      "/opt/anaconda3/envs/bit_pred_env/lib/python3.11/site-packages/keras/src/layers/rnn/rnn.py:200: UserWarning: Do not pass an `input_shape`/`input_dim` argument to a layer. When using Sequential models, prefer using an `Input(shape)` object as the first layer in the model instead.\n",
      "  super().__init__(**kwargs)\n"
     ]
    },
    {
     "data": {
      "text/plain": [
       "<keras.src.callbacks.history.History at 0x1184bca10>"
      ]
     },
     "execution_count": 18,
     "metadata": {},
     "output_type": "execute_result"
    },
    {
     "name": "stdout",
     "output_type": "stream",
     "text": [
      "  5%  | RMSE = 0.09742 | Safe MAPE = 176.02%\n"
     ]
    },
    {
     "name": "stderr",
     "output_type": "stream",
     "text": [
      "/opt/anaconda3/envs/bit_pred_env/lib/python3.11/site-packages/keras/src/layers/rnn/rnn.py:200: UserWarning: Do not pass an `input_shape`/`input_dim` argument to a layer. When using Sequential models, prefer using an `Input(shape)` object as the first layer in the model instead.\n",
      "  super().__init__(**kwargs)\n"
     ]
    },
    {
     "data": {
      "text/plain": [
       "<keras.src.callbacks.history.History at 0x118b3ad50>"
      ]
     },
     "execution_count": 18,
     "metadata": {},
     "output_type": "execute_result"
    },
    {
     "name": "stdout",
     "output_type": "stream",
     "text": [
      " 10%  | RMSE = 0.02411 | Safe MAPE =  67.68%\n"
     ]
    },
    {
     "name": "stderr",
     "output_type": "stream",
     "text": [
      "/opt/anaconda3/envs/bit_pred_env/lib/python3.11/site-packages/keras/src/layers/rnn/rnn.py:200: UserWarning: Do not pass an `input_shape`/`input_dim` argument to a layer. When using Sequential models, prefer using an `Input(shape)` object as the first layer in the model instead.\n",
      "  super().__init__(**kwargs)\n"
     ]
    },
    {
     "data": {
      "text/plain": [
       "<keras.src.callbacks.history.History at 0x11852a950>"
      ]
     },
     "execution_count": 18,
     "metadata": {},
     "output_type": "execute_result"
    },
    {
     "name": "stdout",
     "output_type": "stream",
     "text": [
      " 20%  | RMSE = 0.02715 | Safe MAPE =  68.20%\n"
     ]
    },
    {
     "name": "stderr",
     "output_type": "stream",
     "text": [
      "/opt/anaconda3/envs/bit_pred_env/lib/python3.11/site-packages/keras/src/layers/rnn/rnn.py:200: UserWarning: Do not pass an `input_shape`/`input_dim` argument to a layer. When using Sequential models, prefer using an `Input(shape)` object as the first layer in the model instead.\n",
      "  super().__init__(**kwargs)\n"
     ]
    },
    {
     "data": {
      "text/plain": [
       "<keras.src.callbacks.history.History at 0x11a4d1590>"
      ]
     },
     "execution_count": 18,
     "metadata": {},
     "output_type": "execute_result"
    },
    {
     "name": "stdout",
     "output_type": "stream",
     "text": [
      " 40%  | RMSE = 0.00923 | Safe MAPE =  22.89%\n"
     ]
    },
    {
     "name": "stderr",
     "output_type": "stream",
     "text": [
      "/opt/anaconda3/envs/bit_pred_env/lib/python3.11/site-packages/keras/src/layers/rnn/rnn.py:200: UserWarning: Do not pass an `input_shape`/`input_dim` argument to a layer. When using Sequential models, prefer using an `Input(shape)` object as the first layer in the model instead.\n",
      "  super().__init__(**kwargs)\n"
     ]
    },
    {
     "data": {
      "text/plain": [
       "<keras.src.callbacks.history.History at 0x119452c90>"
      ]
     },
     "execution_count": 18,
     "metadata": {},
     "output_type": "execute_result"
    },
    {
     "name": "stdout",
     "output_type": "stream",
     "text": [
      " 60%  | RMSE = 0.01498 | Safe MAPE =  41.37%\n"
     ]
    },
    {
     "name": "stderr",
     "output_type": "stream",
     "text": [
      "/opt/anaconda3/envs/bit_pred_env/lib/python3.11/site-packages/keras/src/layers/rnn/rnn.py:200: UserWarning: Do not pass an `input_shape`/`input_dim` argument to a layer. When using Sequential models, prefer using an `Input(shape)` object as the first layer in the model instead.\n",
      "  super().__init__(**kwargs)\n"
     ]
    },
    {
     "data": {
      "text/plain": [
       "<keras.src.callbacks.history.History at 0x11a95e590>"
      ]
     },
     "execution_count": 18,
     "metadata": {},
     "output_type": "execute_result"
    },
    {
     "name": "stdout",
     "output_type": "stream",
     "text": [
      " 80%  | RMSE = 0.01167 | Safe MAPE =  31.79%\n"
     ]
    },
    {
     "name": "stderr",
     "output_type": "stream",
     "text": [
      "/opt/anaconda3/envs/bit_pred_env/lib/python3.11/site-packages/keras/src/layers/rnn/rnn.py:200: UserWarning: Do not pass an `input_shape`/`input_dim` argument to a layer. When using Sequential models, prefer using an `Input(shape)` object as the first layer in the model instead.\n",
      "  super().__init__(**kwargs)\n"
     ]
    },
    {
     "data": {
      "text/plain": [
       "<keras.src.callbacks.history.History at 0x11e71c490>"
      ]
     },
     "execution_count": 18,
     "metadata": {},
     "output_type": "execute_result"
    },
    {
     "name": "stdout",
     "output_type": "stream",
     "text": [
      "100%  | RMSE = 0.03107 | Safe MAPE =  90.36%\n"
     ]
    },
    {
     "data": {
      "text/plain": [
       "<Figure size 700x400 with 0 Axes>"
      ]
     },
     "execution_count": 18,
     "metadata": {},
     "output_type": "execute_result"
    },
    {
     "data": {
      "text/plain": [
       "[<matplotlib.lines.Line2D at 0x11df05610>]"
      ]
     },
     "execution_count": 18,
     "metadata": {},
     "output_type": "execute_result"
    },
    {
     "data": {
      "text/plain": [
       "[<matplotlib.lines.Line2D at 0x3177aab10>]"
      ]
     },
     "execution_count": 18,
     "metadata": {},
     "output_type": "execute_result"
    },
    {
     "data": {
      "text/plain": [
       "Text(0.5, 0, 'Training‑set size (%)')"
      ]
     },
     "execution_count": 18,
     "metadata": {},
     "output_type": "execute_result"
    },
    {
     "data": {
      "text/plain": [
       "Text(0, 0.5, 'Error')"
      ]
     },
     "execution_count": 18,
     "metadata": {},
     "output_type": "execute_result"
    },
    {
     "data": {
      "text/plain": [
       "Text(0.5, 1.0, 'Double‑Descent Check\\xa0– Plain\\xa0LSTM')"
      ]
     },
     "execution_count": 18,
     "metadata": {},
     "output_type": "execute_result"
    },
    {
     "data": {
      "text/plain": [
       "<matplotlib.legend.Legend at 0x11df33e50>"
      ]
     },
     "execution_count": 18,
     "metadata": {},
     "output_type": "execute_result"
    },
    {
     "data": {
      "image/png": "[encoded data removed]",
      "text/plain": [
       "<Figure size 700x400 with 1 Axes>"
      ]
     },
     "metadata": {},
     "output_type": "display_data"
    }
   ],
   "source": [
    "# ===============================================\n",
    "# Double‑Descent experiment for *plain* LSTM\n",
    "#  (re‑run this cell to regenerate the figure)\n",
    "# ===============================================\n",
    "import numpy as np, tensorflow as tf\n",
    "import matplotlib.pyplot as plt\n",
    "from sklearn.metrics import mean_squared_error, mean_absolute_percentage_error\n",
    "\n",
    "# -- 1.  Fractions of the *training* set to try\n",
    "fractions = [0.05, 0.10, 0.20, 0.40, 0.60, 0.80, 1.00]\n",
    "\n",
    "rmse_curve, mape_curve = [], []\n",
    "\n",
    "for frac in fractions:\n",
    "    # --- 1‑a.  Chronological subsample  ---------------------------\n",
    "    n = int(frac * len(X_train))\n",
    "    X_sub, y_sub = X_train[:n], y_train[:n]\n",
    "    \n",
    "    # --- 1‑b.  Fresh LSTM each pass  ------------------------------\n",
    "    tf.keras.backend.clear_session()\n",
    "    model = tf.keras.Sequential([\n",
    "        tf.keras.layers.LSTM(64, input_shape=(X_sub.shape[1], X_sub.shape[2])),\n",
    "        tf.keras.layers.Dropout(0.2),\n",
    "        tf.keras.layers.Dense(1)\n",
    "    ])\n",
    "    model.compile(optimizer='adam', loss='mse')\n",
    "    \n",
    "    model.fit(\n",
    "        X_sub, y_sub,\n",
    "        epochs=20, batch_size=32,\n",
    "        validation_split=0.2, verbose=0\n",
    "    )\n",
    "    \n",
    "    # --- 1‑c.  Evaluate on the *fixed* test set -------------------\n",
    "    y_pred = model.predict(X_test, verbose=0).flatten()\n",
    "    \n",
    "    rmse  = np.sqrt(mean_squared_error(y_test, y_pred))\n",
    "    mask  = np.abs(y_test) > 0.01          # Safe‑MAPE mask\n",
    "    mape  = mean_absolute_percentage_error(y_test[mask], y_pred[mask]) * 100\n",
    "    \n",
    "    rmse_curve.append(rmse)\n",
    "    mape_curve.append(mape)\n",
    "    \n",
    "    print(f\"{int(frac*100):>3}%  | RMSE = {rmse:.5f} | Safe MAPE = {mape:6.2f}%\")\n",
    "\n",
    "# -- 2.  Plot -------------------------------------------------------\n",
    "plt.figure(figsize=(7,4))\n",
    "plt.plot(np.array(fractions)*100, rmse_curve, 'o-',  label='RMSE')\n",
    "plt.plot(np.array(fractions)*100, mape_curve, 's--', label='Safe MAPE')\n",
    "plt.xlabel('Training‑set size (%)')\n",
    "plt.ylabel('Error')\n",
    "plt.title('Double‑Descent Check – Plain LSTM')\n",
    "plt.grid(True); plt.legend(); plt.show()"
   ]
  }
 ],
 "metadata": {
  "kernelspec": {
   "display_name": "bit_pred_env",
   "language": "python",
   "name": "python3"
  },
  "language_info": {
   "codemirror_mode": {
    "name": "ipython",
    "version": 3
   },
   "file_extension": ".py",
   "mimetype": "text/x-python",
   "name": "python",
   "nbconvert_exporter": "python",
   "pygments_lexer": "ipython3",
   "version": "3.11.11"
  }
 },
 "nbformat": 4,
 "nbformat_minor": 5
}
