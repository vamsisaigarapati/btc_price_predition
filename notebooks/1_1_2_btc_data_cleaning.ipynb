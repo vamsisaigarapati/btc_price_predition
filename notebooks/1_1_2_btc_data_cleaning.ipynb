{
 "cells": [
  {
   "cell_type": "code",
   "execution_count": 5,
   "id": "40edc118",
   "metadata": {},
   "outputs": [],
   "source": [
    "from IPython.core.interactiveshell import InteractiveShell\n",
    "InteractiveShell.ast_node_interactivity = \"all\" "
   ]
  },
  {
   "cell_type": "code",
   "execution_count": null,
   "id": "3dc3693c",
   "metadata": {},
   "outputs": [],
   "source": []
  },
  {
   "cell_type": "code",
   "execution_count": 6,
   "id": "05f200a7",
   "metadata": {},
   "outputs": [
    {
     "data": {
      "text/html": [
       "<div>\n",
       "<style scoped>\n",
       "    .dataframe tbody tr th:only-of-type {\n",
       "        vertical-align: middle;\n",
       "    }\n",
       "\n",
       "    .dataframe tbody tr th {\n",
       "        vertical-align: top;\n",
       "    }\n",
       "\n",
       "    .dataframe thead th {\n",
       "        text-align: right;\n",
       "    }\n",
       "</style>\n",
       "<table border=\"1\" class=\"dataframe\">\n",
       "  <thead>\n",
       "    <tr style=\"text-align: right;\">\n",
       "      <th></th>\n",
       "      <th>datetime</th>\n",
       "      <th>Open</th>\n",
       "      <th>High</th>\n",
       "      <th>Low</th>\n",
       "      <th>Close</th>\n",
       "      <th>Volume</th>\n",
       "    </tr>\n",
       "  </thead>\n",
       "  <tbody>\n",
       "    <tr>\n",
       "      <th>0</th>\n",
       "      <td>2021-01-01 00:00:00</td>\n",
       "      <td>28912.47</td>\n",
       "      <td>28940.00</td>\n",
       "      <td>28896.36</td>\n",
       "      <td>28897.20</td>\n",
       "      <td>14.556408</td>\n",
       "    </tr>\n",
       "    <tr>\n",
       "      <th>1</th>\n",
       "      <td>2021-01-01 01:00:00</td>\n",
       "      <td>28949.71</td>\n",
       "      <td>28971.19</td>\n",
       "      <td>28934.74</td>\n",
       "      <td>28951.62</td>\n",
       "      <td>2.909250</td>\n",
       "    </tr>\n",
       "    <tr>\n",
       "      <th>2</th>\n",
       "      <td>2021-01-01 02:00:00</td>\n",
       "      <td>29200.00</td>\n",
       "      <td>29200.00</td>\n",
       "      <td>29141.89</td>\n",
       "      <td>29182.39</td>\n",
       "      <td>6.573420</td>\n",
       "    </tr>\n",
       "    <tr>\n",
       "      <th>3</th>\n",
       "      <td>2021-01-01 03:00:00</td>\n",
       "      <td>28987.60</td>\n",
       "      <td>29036.54</td>\n",
       "      <td>28987.60</td>\n",
       "      <td>29036.54</td>\n",
       "      <td>2.058270</td>\n",
       "    </tr>\n",
       "    <tr>\n",
       "      <th>4</th>\n",
       "      <td>2021-01-01 04:00:00</td>\n",
       "      <td>29135.25</td>\n",
       "      <td>29161.46</td>\n",
       "      <td>29084.48</td>\n",
       "      <td>29086.47</td>\n",
       "      <td>4.388466</td>\n",
       "    </tr>\n",
       "  </tbody>\n",
       "</table>\n",
       "</div>"
      ],
      "text/plain": [
       "             datetime      Open      High       Low     Close     Volume\n",
       "0 2021-01-01 00:00:00  28912.47  28940.00  28896.36  28897.20  14.556408\n",
       "1 2021-01-01 01:00:00  28949.71  28971.19  28934.74  28951.62   2.909250\n",
       "2 2021-01-01 02:00:00  29200.00  29200.00  29141.89  29182.39   6.573420\n",
       "3 2021-01-01 03:00:00  28987.60  29036.54  28987.60  29036.54   2.058270\n",
       "4 2021-01-01 04:00:00  29135.25  29161.46  29084.48  29086.47   4.388466"
      ]
     },
     "execution_count": 6,
     "metadata": {},
     "output_type": "execute_result"
    }
   ],
   "source": [
    "import pandas as pd\n",
    "\n",
    "# Read the Parquet file into a DataFrame\n",
    "btc_data = pd.read_parquet('../datasets/btc_data_hourly.parquet')\n",
    "\n",
    "# Print the head of the DataFrame\n",
    "btc_data.head()"
   ]
  },
  {
   "cell_type": "code",
   "execution_count": 8,
   "id": "999f756b",
   "metadata": {},
   "outputs": [
    {
     "data": {
      "text/plain": [
       "(Timestamp('2023-02-01 00:00:00'), Timestamp('2021-01-01 00:00:00'))"
      ]
     },
     "execution_count": 8,
     "metadata": {},
     "output_type": "execute_result"
    }
   ],
   "source": [
    "max_timestamp = btc_data['datetime'].max()\n",
    "min_timestamp = btc_data['datetime'].min()\n",
    "\n",
    "max_timestamp, min_timestamp"
   ]
  },
  {
   "cell_type": "code",
   "execution_count": 10,
   "id": "46128b58",
   "metadata": {},
   "outputs": [
    {
     "name": "stdout",
     "output_type": "stream",
     "text": [
      "                 datetime     Open     High      Low    Close     Volume\n",
      "18264 2023-02-01 00:00:00  23170.0  23177.0  23165.0  23175.0  19.798608\n",
      "18263 2023-01-31 23:00:00  23157.0  23157.0  23140.0  23140.0   0.101278\n",
      "18262 2023-01-31 22:00:00  23110.0  23118.0  23108.0  23118.0   1.162838\n",
      "18261 2023-01-31 21:00:00  23128.0  23131.0  23128.0  23131.0   0.242541\n",
      "18260 2023-01-31 20:00:00  23129.0  23140.0  23122.0  23124.0   0.304229\n"
     ]
    }
   ],
   "source": [
    "btc_data_sorted = btc_data.sort_values(by='datetime', ascending=False)\n",
    "print(btc_data_sorted.head())"
   ]
  },
  {
   "cell_type": "code",
   "execution_count": 12,
   "id": "95a0018b",
   "metadata": {},
   "outputs": [
    {
     "name": "stdout",
     "output_type": "stream",
     "text": [
      "Normalized data saved at: ../datasets/normalised_bitcoin_price_hours.parquet\n",
      "Scaler parameters saved at: ../datasets/scaler_params_hours.json\n"
     ]
    }
   ],
   "source": [
    "import json\n",
    "import pandas as pd\n",
    "from sklearn.preprocessing import MinMaxScaler\n",
    "\n",
    "# Define file paths\n",
    "parquet_file_path = \"../datasets/normalised_bitcoin_price_hours.parquet\"\n",
    "json_file_path = \"../datasets/scaler_params_hours.json\"\n",
    "\n",
    "# Ensure dataset directory exists\n",
    "import os\n",
    "os.makedirs(\"./datasets\", exist_ok=True)\n",
    "\n",
    "# Preserve the date column separately\n",
    "btc_data.reset_index(inplace=True)  # Ensure 'date' is a regular column\n",
    "\n",
    "# Selecting relevant columns (excluding 'date' for scaling)\n",
    "features = ['Open', 'High', 'Low', 'Close', 'Volume']\n",
    "btc_data_subset = btc_data[features]\n",
    "\n",
    "# Initialize and apply MinMaxScaler\n",
    "scaler = MinMaxScaler(feature_range=(0, 1))\n",
    "btc_data_scaled = pd.DataFrame(scaler.fit_transform(btc_data_subset), columns=features)\n",
    "\n",
    "# Restore the 'date' column\n",
    "btc_data_scaled.insert(0, 'datetime', btc_data['datetime'])\n",
    "\n",
    "# Save scaled data as a Parquet file\n",
    "btc_data_scaled.to_parquet(parquet_file_path, index=False)\n",
    "\n",
    "# Save Min/Max values in JSON\n",
    "scaler_params = {\n",
    "    \"min\": btc_data_subset.min().to_dict(),\n",
    "    \"max\": btc_data_subset.max().to_dict()\n",
    "}\n",
    "with open(json_file_path, \"w\") as f:\n",
    "    json.dump(scaler_params, f, indent=4)\n",
    "\n",
    "print(f\"Normalized data saved at: {parquet_file_path}\")\n",
    "print(f\"Scaler parameters saved at: {json_file_path}\")\n"
   ]
  },
  {
   "cell_type": "code",
   "execution_count": 13,
   "id": "fe4725ff",
   "metadata": {},
   "outputs": [
    {
     "data": {
      "text/html": [
       "<div>\n",
       "<style scoped>\n",
       "    .dataframe tbody tr th:only-of-type {\n",
       "        vertical-align: middle;\n",
       "    }\n",
       "\n",
       "    .dataframe tbody tr th {\n",
       "        vertical-align: top;\n",
       "    }\n",
       "\n",
       "    .dataframe thead th {\n",
       "        text-align: right;\n",
       "    }\n",
       "</style>\n",
       "<table border=\"1\" class=\"dataframe\">\n",
       "  <thead>\n",
       "    <tr style=\"text-align: right;\">\n",
       "      <th></th>\n",
       "      <th>datetime</th>\n",
       "      <th>Open</th>\n",
       "      <th>High</th>\n",
       "      <th>Low</th>\n",
       "      <th>Close</th>\n",
       "      <th>Volume</th>\n",
       "    </tr>\n",
       "  </thead>\n",
       "  <tbody>\n",
       "    <tr>\n",
       "      <th>0</th>\n",
       "      <td>2021-01-01 00:00:00</td>\n",
       "      <td>0.250730</td>\n",
       "      <td>0.251106</td>\n",
       "      <td>0.250628</td>\n",
       "      <td>0.250493</td>\n",
       "      <td>0.076344</td>\n",
       "    </tr>\n",
       "    <tr>\n",
       "      <th>1</th>\n",
       "      <td>2021-01-01 01:00:00</td>\n",
       "      <td>0.251433</td>\n",
       "      <td>0.251695</td>\n",
       "      <td>0.251353</td>\n",
       "      <td>0.251520</td>\n",
       "      <td>0.015258</td>\n",
       "    </tr>\n",
       "    <tr>\n",
       "      <th>2</th>\n",
       "      <td>2021-01-01 02:00:00</td>\n",
       "      <td>0.256154</td>\n",
       "      <td>0.256011</td>\n",
       "      <td>0.255263</td>\n",
       "      <td>0.255877</td>\n",
       "      <td>0.034476</td>\n",
       "    </tr>\n",
       "    <tr>\n",
       "      <th>3</th>\n",
       "      <td>2021-01-01 03:00:00</td>\n",
       "      <td>0.252147</td>\n",
       "      <td>0.252928</td>\n",
       "      <td>0.252351</td>\n",
       "      <td>0.253123</td>\n",
       "      <td>0.010795</td>\n",
       "    </tr>\n",
       "    <tr>\n",
       "      <th>4</th>\n",
       "      <td>2021-01-01 04:00:00</td>\n",
       "      <td>0.254932</td>\n",
       "      <td>0.255284</td>\n",
       "      <td>0.254180</td>\n",
       "      <td>0.254066</td>\n",
       "      <td>0.023016</td>\n",
       "    </tr>\n",
       "  </tbody>\n",
       "</table>\n",
       "</div>"
      ],
      "text/plain": [
       "             datetime      Open      High       Low     Close    Volume\n",
       "0 2021-01-01 00:00:00  0.250730  0.251106  0.250628  0.250493  0.076344\n",
       "1 2021-01-01 01:00:00  0.251433  0.251695  0.251353  0.251520  0.015258\n",
       "2 2021-01-01 02:00:00  0.256154  0.256011  0.255263  0.255877  0.034476\n",
       "3 2021-01-01 03:00:00  0.252147  0.252928  0.252351  0.253123  0.010795\n",
       "4 2021-01-01 04:00:00  0.254932  0.255284  0.254180  0.254066  0.023016"
      ]
     },
     "execution_count": 13,
     "metadata": {},
     "output_type": "execute_result"
    }
   ],
   "source": [
    "# Read the normalized Parquet file\n",
    "normalized_btc_data = pd.read_parquet('../datasets/normalised_bitcoin_price_hours.parquet')\n",
    "\n",
    "# Display the head of the DataFrame\n",
    "normalized_btc_data.head()"
   ]
  }
 ],
 "metadata": {
  "kernelspec": {
   "display_name": "bit_pred_env",
   "language": "python",
   "name": "python3"
  },
  "language_info": {
   "codemirror_mode": {
    "name": "ipython",
    "version": 3
   },
   "file_extension": ".py",
   "mimetype": "text/x-python",
   "name": "python",
   "nbconvert_exporter": "python",
   "pygments_lexer": "ipython3",
   "version": "3.11.11"
  }
 },
 "nbformat": 4,
 "nbformat_minor": 5
}
